{
 "cells": [
  {
   "cell_type": "markdown",
   "metadata": {},
   "source": [
    "# A simple example of RNN\n",
    "In this problem, we want to predict the next steps of a walking path on a plane using __RNN__. \n",
    "## Generating data"
   ]
  },
  {
   "cell_type": "code",
   "execution_count": 20,
   "metadata": {},
   "outputs": [],
   "source": [
    "import numpy as np\n",
    "\n",
    "size = 100000\n",
    "seq_len = 20\n",
    "batch_size = 128\n",
    "state_size = 128"
   ]
  },
  {
   "cell_type": "code",
   "execution_count": 21,
   "metadata": {},
   "outputs": [],
   "source": [
    "# randomly generate a walking (on a plance) path, each point has two coordinates\n",
    "# stack sequences of length seq_len into Xs and Ys, where Ys is one step forward from Xs.\n",
    "def gen_data(size = 10000, seq_len = 20):\n",
    "    path = np.array(np.random.normal(0.5,.01,size=(size + seq_len,2)))\n",
    "    Xs = np.zeros((size,seq_len,2))\n",
    "    Ys = np.zeros((size,seq_len,2))\n",
    "    for i in xrange(size):\n",
    "        Xs[i,:,:] = path[i : i+seq_len , :]\n",
    "        Ys[i,:,:] = path[i+1 : i+1+seq_len , :]\n",
    "    return (Xs, Ys, path)"
   ]
  },
  {
   "cell_type": "code",
   "execution_count": 22,
   "metadata": {},
   "outputs": [
    {
     "data": {
      "text/plain": [
       "((100000, 20, 2), (100000, 20, 2), (100020, 2))"
      ]
     },
     "execution_count": 22,
     "metadata": {},
     "output_type": "execute_result"
    }
   ],
   "source": [
    "(Xs, Ys, path) = gen_data(size, seq_len)\n",
    "Xs.shape, Ys.shape, path.shape"
   ]
  },
  {
   "cell_type": "markdown",
   "metadata": {},
   "source": [
    "## Using Keras\n",
    "### Building the model"
   ]
  },
  {
   "cell_type": "code",
   "execution_count": 23,
   "metadata": {},
   "outputs": [],
   "source": [
    "from keras.models import Sequential\n",
    "from keras.layers import LSTM, SimpleRNN\n",
    "from keras.layers import Dense, Activation, Dropout\n",
    "from keras.layers.wrappers import TimeDistributed"
   ]
  },
  {
   "cell_type": "code",
   "execution_count": 24,
   "metadata": {},
   "outputs": [
    {
     "name": "stdout",
     "output_type": "stream",
     "text": [
      "Build model...\n",
      "model is made\n"
     ]
    }
   ],
   "source": [
    "print('Build model...')\n",
    "model = Sequential()\n",
    "model.add(LSTM(state_size, return_sequences=True, input_shape=(seq_len, 2)))  \n",
    "model.add(LSTM(state_size, return_sequences=True))\n",
    "model.add(Dropout(0.2))\n",
    "model.add(TimeDistributed(Dense(2)))\n",
    "model.compile(loss='mse', optimizer='rmsprop')\n",
    "print ('model is made')"
   ]
  },
  {
   "cell_type": "code",
   "execution_count": 25,
   "metadata": {},
   "outputs": [
    {
     "name": "stdout",
     "output_type": "stream",
     "text": [
      "_________________________________________________________________\n",
      "Layer (type)                 Output Shape              Param #   \n",
      "=================================================================\n",
      "lstm_3 (LSTM)                (None, 20, 128)           67072     \n",
      "_________________________________________________________________\n",
      "lstm_4 (LSTM)                (None, 20, 128)           131584    \n",
      "_________________________________________________________________\n",
      "dropout_2 (Dropout)          (None, 20, 128)           0         \n",
      "_________________________________________________________________\n",
      "time_distributed_2 (TimeDist (None, 20, 2)             258       \n",
      "=================================================================\n",
      "Total params: 198,914\n",
      "Trainable params: 198,914\n",
      "Non-trainable params: 0\n",
      "_________________________________________________________________\n",
      "None\n"
     ]
    }
   ],
   "source": [
    "print(model.summary())"
   ]
  },
  {
   "cell_type": "markdown",
   "metadata": {},
   "source": [
    "### Print a sample before training"
   ]
  },
  {
   "cell_type": "code",
   "execution_count": 26,
   "metadata": {},
   "outputs": [],
   "source": [
    "def print_array(a):\n",
    "    # A helper function for printing an array\n",
    "    # The shape of the array is 1 x None x 2, print with 3 decimal places and with groups of 2 numbers\n",
    "    a = np.around(a,3)\n",
    "    for item in a[0,:,:]:\n",
    "        print item,\n",
    "    \n",
    "def print_sample():\n",
    "    # A helper function for printing a sample with predicted future steps\n",
    "    start_index = 0\n",
    "    seq_len = 20\n",
    "    print('--------------- Generating with seed: ----------------')\n",
    "    x = np.zeros((1,seq_len,2))\n",
    "    x[0,:,:] = path[start_index:start_index+seq_len]\n",
    "    print_array(x)\n",
    "    print()\n",
    "    print('--------------------- Prediting ----------------------')\n",
    "    \n",
    "    for i in range(20):\n",
    "        preds = model.predict(x, verbose=0)\n",
    "        next_step = np.zeros((1, 1, 2))\n",
    "        next_step[0,:,:] = preds[:,-1,:]\n",
    "        print_array(next_step)\n",
    "        past_steps = x[:,1:,:]\n",
    "        x = np.concatenate(( past_steps, next_step ), axis = 1)\n",
    "        \n",
    "    print()\n",
    "        "
   ]
  },
  {
   "cell_type": "code",
   "execution_count": 27,
   "metadata": {},
   "outputs": [
    {
     "name": "stdout",
     "output_type": "stream",
     "text": [
      "---------- Before Training ----------\n",
      "--------------- Generating with seed: ----------------\n",
      "[ 0.5  0.5] [ 0.5  0.5] [ 0.5  0.5] [ 0.5  0.5] [ 0.5  0.5] [ 0.5  0.5] [ 0.5  0.5] [ 0.5  0.5] [ 0.5  0.5] [ 0.5  0.5] [ 0.5  0.5] [ 0.5  0.5] [ 0.5  0.5] [ 0.5  0.5] [ 0.5  0.5] [ 0.5  0.5] [ 0.5  0.5] [ 0.5  0.5] [ 0.5  0.5] [ 0.5  0.5] ()\n",
      "--------------------- Prediting ----------------------\n",
      "[-0.037 -0.057] [-0.035 -0.052] [-0.031 -0.046] [-0.027 -0.038] [-0.023 -0.031] [-0.019 -0.025] [-0.015 -0.02 ] [-0.012 -0.015] [-0.01  -0.012] [-0.007 -0.009] [-0.006 -0.007] [-0.004 -0.005] [-0.003 -0.003] [-0.002 -0.002] [-0.002 -0.002] [-0.001 -0.001] [-0.001 -0.   ] [-0. -0.] [-0.  0.] [ 0.  0.] ()\n"
     ]
    }
   ],
   "source": [
    "print(\"---------- Before Training ----------\")\n",
    "print_sample()"
   ]
  },
  {
   "cell_type": "markdown",
   "metadata": {},
   "source": [
    "### Training the rnn with demonstration at each iteration"
   ]
  },
  {
   "cell_type": "code",
   "execution_count": 28,
   "metadata": {},
   "outputs": [
    {
     "name": "stdout",
     "output_type": "stream",
     "text": [
      "()\n",
      "--------------------------------------------------\n",
      "('Iteration', 1)\n",
      "--------------- Generating with seed: ----------------\n",
      "[ 0.5  0.5] [ 0.5  0.5] [ 0.5  0.5] [ 0.5  0.5] [ 0.5  0.5] [ 0.5  0.5] [ 0.5  0.5] [ 0.5  0.5] [ 0.5  0.5] [ 0.5  0.5] [ 0.5  0.5] [ 0.5  0.5] [ 0.5  0.5] [ 0.5  0.5] [ 0.5  0.5] [ 0.5  0.5] [ 0.5  0.5] [ 0.5  0.5] [ 0.5  0.5] [ 0.5  0.5] ()\n",
      "--------------------- Prediting ----------------------\n",
      "[-0.037 -0.057] [-0.035 -0.052] [-0.031 -0.046] [-0.027 -0.038] [-0.023 -0.031] [-0.019 -0.025] [-0.015 -0.02 ] [-0.012 -0.015] [-0.01  -0.012] [-0.007 -0.009] [-0.006 -0.007] [-0.004 -0.005] [-0.003 -0.003] [-0.002 -0.002] [-0.002 -0.002] [-0.001 -0.001] [-0.001 -0.   ] [-0. -0.] [-0.  0.] [ 0.  0.] ()\n",
      "Epoch 1/1\n",
      "100000/100000 [==============================] - 110s 1ms/step - loss: 0.0033\n",
      "loss is\n",
      "0.00329963634294\n",
      "<keras.callbacks.History object at 0x10600ba90>\n",
      "()\n",
      "()\n",
      "--------------------------------------------------\n",
      "('Iteration', 2)\n",
      "--------------- Generating with seed: ----------------\n",
      "[ 0.5  0.5] [ 0.5  0.5] [ 0.5  0.5] [ 0.5  0.5] [ 0.5  0.5] [ 0.5  0.5] [ 0.5  0.5] [ 0.5  0.5] [ 0.5  0.5] [ 0.5  0.5] [ 0.5  0.5] [ 0.5  0.5] [ 0.5  0.5] [ 0.5  0.5] [ 0.5  0.5] [ 0.5  0.5] [ 0.5  0.5] [ 0.5  0.5] [ 0.5  0.5] [ 0.5  0.5] ()\n",
      "--------------------- Prediting ----------------------\n",
      "[ 0.511  0.518] [ 0.515  0.521] [ 0.516  0.522] [ 0.516  0.522] [ 0.516  0.522] [ 0.516  0.522] [ 0.516  0.522] [ 0.516  0.522] [ 0.516  0.522] [ 0.516  0.522] [ 0.516  0.522] [ 0.516  0.522] [ 0.516  0.522] [ 0.516  0.522] [ 0.516  0.522] [ 0.516  0.522] [ 0.516  0.522] [ 0.516  0.522] [ 0.516  0.522] [ 0.516  0.522] ()\n",
      "Epoch 1/1\n",
      "100000/100000 [==============================] - 107s 1ms/step - loss: 4.1079e-04\n",
      "loss is\n",
      "0.000410788802626\n",
      "<keras.callbacks.History object at 0x117fcde50>\n",
      "()\n"
     ]
    }
   ],
   "source": [
    "for iteration in range(1,3):\n",
    "    print()\n",
    "    print('-' * 50)\n",
    "    print('Iteration', iteration)\n",
    "    print_sample()\n",
    "    history = model.fit(Xs, Ys, batch_size = batch_size, epochs = 1, verbose = 1)\n",
    "    if iteration==1 or iteration==3 or iteration==5 or iteration==10 or iteration==20 or iteration==30 or iteration==40 or iteration==50:\n",
    "        model.save_weights('rnn_rw_' + str(iteration) + '.h5', overwrite=True)\n",
    "    print('loss is')\n",
    "    print(history.history['loss'][0])\n",
    "    print(history)\n",
    "    print()\n",
    "    model.save('rnn_rw')"
   ]
  },
  {
   "cell_type": "markdown",
   "metadata": {},
   "source": [
    "## Using TensorFlow API"
   ]
  },
  {
   "cell_type": "code",
   "execution_count": 44,
   "metadata": {},
   "outputs": [],
   "source": [
    "def get_batch(Xs, Ys, batch_size = 128):\n",
    "    s = int(np.random.uniform(0, len(Xs) - batch_size))\n",
    "    data_x = Xs[s : s+batch_size]\n",
    "    data_y = Ys[s : s+batch_size]\n",
    "    return data_x, data_y"
   ]
  },
  {
   "cell_type": "code",
   "execution_count": 45,
   "metadata": {},
   "outputs": [
    {
     "data": {
      "text/plain": [
       "((128, 20, 2), (128, 20, 2))"
      ]
     },
     "execution_count": 45,
     "metadata": {},
     "output_type": "execute_result"
    }
   ],
   "source": [
    "data_x, data_y = get_batch(Xs, Ys)\n",
    "data_x.shape, data_y.shape"
   ]
  },
  {
   "cell_type": "code",
   "execution_count": 78,
   "metadata": {},
   "outputs": [],
   "source": [
    "import tensorflow as tf\n",
    "state_size = 128\n",
    "learning_rate = 0.01\n",
    "num_layers = 2"
   ]
  },
  {
   "cell_type": "markdown",
   "metadata": {},
   "source": [
    "### Definition of the LSTM cells"
   ]
  },
  {
   "cell_type": "code",
   "execution_count": 88,
   "metadata": {},
   "outputs": [
    {
     "name": "stdout",
     "output_type": "stream",
     "text": [
      "building the model\n",
      "compiling the model\n",
      "model is made\n"
     ]
    }
   ],
   "source": [
    "tf.reset_default_graph()\n",
    "tf.set_random_seed(1)\n",
    "\n",
    "# Placeholders\n",
    "x = tf.placeholder(tf.float32, [batch_size, seq_len, 2], name = 'data_x')\n",
    "y = tf.placeholder(tf.float32, [batch_size, seq_len, 2], name = 'data_y')\n",
    "dropout = tf.placeholder(tf.float32)\n",
    "\n",
    "print('building the model')\n",
    "\n",
    "# create 2 LSTM cells with dropout between layers\n",
    "rnn_layers = []\n",
    "for _ in range(num_layers):\n",
    "    cell = tf.contrib.rnn.BasicLSTMCell(state_size)\n",
    "    cell = tf.contrib.rnn.DropoutWrapper(cell, output_keep_prob = 1.0 - dropout)\n",
    "    rnn_layers.append(cell)\n",
    "    \n",
    "# create a RNN cell composed sequentially of a number of RNNCells\n",
    "multi_rnn_cell = tf.contrib.rnn.MultiRNNCell(rnn_layers)\n",
    "\n",
    "\n",
    "\"\"\"\n",
    "# create 2 LSTM cells with dropout between layers\n",
    "rnn_layers = [tf.nn.rnn_cell.LSTMCell(state_size) for _ in range(num_layers)]\n",
    "# create a RNN cell composed sequentially of a number of RNNCells\n",
    "multi_rnn_cell = tf.nn.rnn_cell.MultiRNNCell(rnn_layers)\n",
    "\"\"\"\n",
    "\n",
    "# outputs is a tensor of shape [batch_size, seq_len, state_size]\n",
    "# state is a N-tuple where N is the number of LSTMCells containing a tf.contrib.rnn.LSTMStateTuple for each cell\n",
    "init_state = multi_rnn_cell.zero_state(batch_size, tf.float32)\n",
    "print('compiling the model')\n",
    "outputs, state = tf.nn.dynamic_rnn(cell = multi_rnn_cell,\n",
    "                                  inputs = x,\n",
    "                                  initial_state = init_state,\n",
    "                                  dtype = tf.float32)\n",
    "print('model is made')"
   ]
  },
  {
   "cell_type": "code",
   "execution_count": 89,
   "metadata": {},
   "outputs": [
    {
     "data": {
      "text/plain": [
       "(<tf.Tensor 'rnn/transpose:0' shape=(128, 20, 128) dtype=float32>,\n",
       " (LSTMStateTuple(c=<tf.Tensor 'rnn/while/Exit_2:0' shape=(128, 128) dtype=float32>, h=<tf.Tensor 'rnn/while/Exit_3:0' shape=(128, 128) dtype=float32>),\n",
       "  LSTMStateTuple(c=<tf.Tensor 'rnn/while/Exit_4:0' shape=(128, 128) dtype=float32>, h=<tf.Tensor 'rnn/while/Exit_5:0' shape=(128, 128) dtype=float32>)))"
      ]
     },
     "execution_count": 89,
     "metadata": {},
     "output_type": "execute_result"
    }
   ],
   "source": [
    "outputs, state"
   ]
  },
  {
   "cell_type": "markdown",
   "metadata": {},
   "source": [
    "### Computation of the MSE loss"
   ]
  },
  {
   "cell_type": "code",
   "execution_count": 90,
   "metadata": {},
   "outputs": [
    {
     "data": {
      "text/plain": [
       "(<tf.Tensor 'Reshape:0' shape=(2560, 128) dtype=float32>,\n",
       " <tf.Tensor 'Reshape_1:0' shape=(2560, 2) dtype=float32>)"
      ]
     },
     "execution_count": 90,
     "metadata": {},
     "output_type": "execute_result"
    }
   ],
   "source": [
    "# reshape outputs and y so that we can compute the prediction y_ and loss easily\n",
    "outputs_reshaped = tf.reshape(outputs, [-1, state_size])\n",
    "y_reshaped = tf.reshape(y,[-1, 2])\n",
    "outputs_reshaped, y_reshaped"
   ]
  },
  {
   "cell_type": "code",
   "execution_count": 93,
   "metadata": {},
   "outputs": [
    {
     "data": {
      "text/plain": [
       "(<tf.Tensor 'add_1:0' shape=(2560, 2) dtype=float32>,\n",
       " <tf.Tensor 'Reshape_1:0' shape=(2560, 2) dtype=float32>)"
      ]
     },
     "execution_count": 93,
     "metadata": {},
     "output_type": "execute_result"
    }
   ],
   "source": [
    "with tf.variable_scope('output'):\n",
    "    V = tf.get_variable('V', [state_size, 2])\n",
    "    bv = tf.get_variable('bv', [2], initializer=tf.constant_initializer(0.0))\n",
    "y_ = tf.matmul(outputs_reshaped, V) + bv\n",
    "y_, y_reshaped"
   ]
  },
  {
   "cell_type": "code",
   "execution_count": 94,
   "metadata": {},
   "outputs": [],
   "source": [
    "total_loss = tf.reduce_mean(tf.square(tf.subtract(y_, y_reshaped)))\n",
    "train_step = tf.train.AdamOptimizer(learning_rate).minimize(total_loss)"
   ]
  },
  {
   "cell_type": "markdown",
   "metadata": {},
   "source": [
    "### Training"
   ]
  },
  {
   "cell_type": "code",
   "execution_count": 95,
   "metadata": {},
   "outputs": [
    {
     "name": "stdout",
     "output_type": "stream",
     "text": [
      "0 0.246577113867\n",
      "1 0.435334533453\n",
      "2 0.294419586658\n",
      "3 0.240839630365\n",
      "4 0.1694983989\n",
      "5 0.0970379263163\n",
      "6 0.0473904311657\n",
      "7 0.08383063972\n",
      "8 0.0276837144047\n",
      "9 0.0355570539832\n",
      "200 0.00263611524194\n",
      "400 0.000402510143467\n",
      "600 0.000245328727615\n",
      "800 0.00017049994276\n",
      "1000 0.000120039147987\n",
      "1200 8.46549955531e-05\n",
      "1400 5.95513816006e-05\n",
      "1600 4.19430745933e-05\n",
      "1800 2.9245350388e-05\n"
     ]
    }
   ],
   "source": [
    "X , Y = None, None\n",
    "count = 0\n",
    "sum_tr_losses = 0\n",
    "with tf.Session() as sess:\n",
    "    sess.run(tf.global_variables_initializer())\n",
    "    for i in range(2000):\n",
    "        X , Y = get_batch(Xs, Ys, batch_size = batch_size)\n",
    "        tr_losses, _ = sess.run([total_loss, train_step], feed_dict = {x:X, y:Y, dropout:0.2})\n",
    "        count += 1\n",
    "        sum_tr_losses += tr_losses\n",
    "        if (i < 10) or ( i % 200 == 0 ):\n",
    "            print(\"{} {}\".format(i, sum_tr_losses / count))\n",
    "            count = 0\n",
    "            sum_tr_losses = 0"
   ]
  },
  {
   "cell_type": "code",
   "execution_count": null,
   "metadata": {},
   "outputs": [],
   "source": []
  }
 ],
 "metadata": {
  "kernelspec": {
   "display_name": "Python 2",
   "language": "python",
   "name": "python2"
  },
  "language_info": {
   "codemirror_mode": {
    "name": "ipython",
    "version": 2
   },
   "file_extension": ".py",
   "mimetype": "text/x-python",
   "name": "python",
   "nbconvert_exporter": "python",
   "pygments_lexer": "ipython2",
   "version": "2.7.10"
  }
 },
 "nbformat": 4,
 "nbformat_minor": 2
}
