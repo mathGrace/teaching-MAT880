{
 "cells": [
  {
   "cell_type": "markdown",
   "metadata": {},
   "source": [
    "# A simple example of RNN\n",
    "In this problem, we want to predict the next steps of a walking path on a plane using __RNN__. \n",
    "## Generating data"
   ]
  },
  {
   "cell_type": "code",
   "execution_count": 64,
   "metadata": {},
   "outputs": [],
   "source": [
    "import numpy as np\n",
    "import random\n",
    "\n",
    "size = 100000\n",
    "seq_len = 20\n",
    "batch_size = 128\n",
    "state_size = 100"
   ]
  },
  {
   "cell_type": "code",
   "execution_count": 2,
   "metadata": {},
   "outputs": [],
   "source": [
    "# randomly generate a walking (on a plance) path, each point has two coordinates\n",
    "# stack sequences of length seq_len into Xs and Ys, where Ys is one step forward from Xs.\n",
    "def gen_data(size = 10000, seq_len = 20):\n",
    "    path = np.array(np.random.normal(0.5,.01,size=(size + seq_len,2)))\n",
    "    Xs = np.zeros((size,seq_len,2))\n",
    "    Ys = np.zeros((size,seq_len,2))\n",
    "    for i in xrange(size):\n",
    "        Xs[i,:,:] = path[i : i+seq_len , :]\n",
    "        Ys[i,:,:] = path[i+1 : i+1+seq_len , :]\n",
    "    return (Xs, Ys, path)"
   ]
  },
  {
   "cell_type": "code",
   "execution_count": 3,
   "metadata": {},
   "outputs": [
    {
     "data": {
      "text/plain": [
       "((100000, 20, 2), (100000, 20, 2), (100020, 2))"
      ]
     },
     "execution_count": 3,
     "metadata": {},
     "output_type": "execute_result"
    }
   ],
   "source": [
    "(Xs, Ys, path) = gen_data(size, seq_len)\n",
    "Xs.shape, Ys.shape, path.shape"
   ]
  },
  {
   "cell_type": "markdown",
   "metadata": {},
   "source": [
    "## 1. Using Keras\n",
    "### Building the model"
   ]
  },
  {
   "cell_type": "code",
   "execution_count": 4,
   "metadata": {},
   "outputs": [
    {
     "name": "stderr",
     "output_type": "stream",
     "text": [
      "Using TensorFlow backend.\n"
     ]
    }
   ],
   "source": [
    "from keras.models import Sequential\n",
    "from keras.layers import LSTM, SimpleRNN\n",
    "from keras.layers import Dense, Activation, Dropout\n",
    "from keras.layers.wrappers import TimeDistributed"
   ]
  },
  {
   "cell_type": "code",
   "execution_count": 5,
   "metadata": {},
   "outputs": [
    {
     "name": "stdout",
     "output_type": "stream",
     "text": [
      "Build model...\n",
      "model is made\n"
     ]
    }
   ],
   "source": [
    "print('Build model...')\n",
    "model = Sequential()\n",
    "model.add(LSTM(state_size, return_sequences=True, input_shape=(seq_len, 2)))  \n",
    "model.add(LSTM(state_size, return_sequences=True))\n",
    "model.add(Dropout(0.2))\n",
    "model.add(TimeDistributed(Dense(2)))\n",
    "model.compile(loss='mse', optimizer='rmsprop')\n",
    "print ('model is made')"
   ]
  },
  {
   "cell_type": "code",
   "execution_count": 6,
   "metadata": {},
   "outputs": [
    {
     "name": "stdout",
     "output_type": "stream",
     "text": [
      "_________________________________________________________________\n",
      "Layer (type)                 Output Shape              Param #   \n",
      "=================================================================\n",
      "lstm_1 (LSTM)                (None, 20, 128)           67072     \n",
      "_________________________________________________________________\n",
      "lstm_2 (LSTM)                (None, 20, 128)           131584    \n",
      "_________________________________________________________________\n",
      "dropout_1 (Dropout)          (None, 20, 128)           0         \n",
      "_________________________________________________________________\n",
      "time_distributed_1 (TimeDist (None, 20, 2)             258       \n",
      "=================================================================\n",
      "Total params: 198,914\n",
      "Trainable params: 198,914\n",
      "Non-trainable params: 0\n",
      "_________________________________________________________________\n",
      "None\n"
     ]
    }
   ],
   "source": [
    "print(model.summary())"
   ]
  },
  {
   "cell_type": "markdown",
   "metadata": {},
   "source": [
    "### Print a sample before training"
   ]
  },
  {
   "cell_type": "code",
   "execution_count": 10,
   "metadata": {},
   "outputs": [],
   "source": [
    "def print_array(a):\n",
    "    # A helper function for printing an array\n",
    "    # The shape of the array is 1 x None x 2, print with 3 decimal places and with groups of 2 numbers\n",
    "    a = np.around(a,3)\n",
    "    for item in a[0,:,:]:\n",
    "        print item,\n",
    "    \n",
    "def print_sample():\n",
    "    # A helper function for printing a sample with predicted future steps\n",
    "    start_index = random.randint(0,size)\n",
    "    seq_len = 20\n",
    "    print('--------------- Generating with seed: ----------------')\n",
    "    x = np.zeros((1,seq_len,2))\n",
    "    x[0,:,:] = path[start_index:start_index+seq_len]\n",
    "    print_array(x)\n",
    "    print()\n",
    "    print('--------------------- Prediting ----------------------')\n",
    "    \n",
    "    for i in range(20):\n",
    "        preds = model.predict(x, verbose=0)\n",
    "        next_step = np.zeros((1, 1, 2))\n",
    "        next_step[0,:,:] = preds[:,-1,:]\n",
    "        print_array(next_step)\n",
    "        past_steps = x[:,1:,:]\n",
    "        x = np.concatenate(( past_steps, next_step ), axis = 1)\n",
    "        \n",
    "    print()\n",
    "        "
   ]
  },
  {
   "cell_type": "code",
   "execution_count": 11,
   "metadata": {},
   "outputs": [
    {
     "name": "stdout",
     "output_type": "stream",
     "text": [
      "---------- Before Training ----------\n",
      "--------------- Generating with seed: ----------------\n",
      "[ 0.498  0.499] [ 0.488  0.501] [ 0.511  0.481] [ 0.503  0.507] [ 0.511  0.501] [ 0.492  0.494] [ 0.497  0.498] [ 0.504  0.488] [ 0.509  0.507] [ 0.48   0.515] [ 0.499  0.5  ] [ 0.508  0.505] [ 0.511  0.48 ] [ 0.51  0.5 ] [ 0.491  0.492] [ 0.517  0.495] [ 0.499  0.471] [ 0.498  0.517] [ 0.511  0.481] [ 0.51   0.499] ()\n",
      "--------------------- Prediting ----------------------\n",
      "[-0.027  0.024] [-0.027  0.023] [-0.027  0.022] [-0.026  0.021] [-0.024  0.019] [-0.021  0.018] [-0.018  0.016] [-0.016  0.014] [-0.013  0.012] [-0.011  0.01 ] [-0.009  0.008] [-0.007  0.006] [-0.005  0.005] [-0.004  0.003] [-0.003  0.002] [-0.002  0.001] [-0.002  0.001] [-0.001 -0.   ] [-0.001 -0.   ] [-0.    -0.001] ()\n"
     ]
    }
   ],
   "source": [
    "print(\"---------- Before Training ----------\")\n",
    "print_sample()"
   ]
  },
  {
   "cell_type": "markdown",
   "metadata": {},
   "source": [
    "### Training the rnn with demonstration at each iteration"
   ]
  },
  {
   "cell_type": "code",
   "execution_count": 12,
   "metadata": {},
   "outputs": [
    {
     "name": "stdout",
     "output_type": "stream",
     "text": [
      "()\n",
      "--------------------------------------------------\n",
      "('Iteration', 1)\n",
      "--------------- Generating with seed: ----------------\n",
      "[ 0.491  0.506] [ 0.479  0.481] [ 0.501  0.504] [ 0.495  0.498] [ 0.504  0.497] [ 0.506  0.501] [ 0.497  0.478] [ 0.49   0.509] [ 0.507  0.493] [ 0.508  0.498] [ 0.497  0.506] [ 0.517  0.509] [ 0.499  0.513] [ 0.502  0.497] [ 0.525  0.494] [ 0.509  0.483] [ 0.497  0.485] [ 0.496  0.515] [ 0.516  0.495] [ 0.501  0.505] ()\n",
      "--------------------- Prediting ----------------------\n",
      "[-0.027  0.024] [-0.027  0.023] [-0.027  0.022] [-0.026  0.021] [-0.024  0.019] [-0.021  0.018] [-0.019  0.016] [-0.016  0.014] [-0.013  0.012] [-0.011  0.01 ] [-0.009  0.008] [-0.007  0.006] [-0.005  0.005] [-0.004  0.003] [-0.003  0.002] [-0.002  0.001] [-0.002  0.   ] [-0.001 -0.   ] [-0.001 -0.001] [-0.    -0.001] ()\n",
      "Epoch 1/1\n",
      "100000/100000 [==============================] - 123s 1ms/step - loss: 0.0034\n",
      "loss is\n",
      "0.00338432063181\n",
      "<keras.callbacks.History object at 0x11af24cd0>\n",
      "()\n",
      "()\n",
      "--------------------------------------------------\n",
      "('Iteration', 2)\n",
      "--------------- Generating with seed: ----------------\n",
      "[ 0.511  0.496] [ 0.524  0.505] [ 0.494  0.496] [ 0.494  0.494] [ 0.497  0.507] [ 0.486  0.494] [ 0.503  0.491] [ 0.503  0.496] [ 0.496  0.49 ] [ 0.494  0.496] [ 0.494  0.518] [ 0.501  0.497] [ 0.498  0.493] [ 0.495  0.509] [ 0.493  0.503] [ 0.495  0.503] [ 0.488  0.495] [ 0.499  0.506] [ 0.5    0.498] [ 0.482  0.488] ()\n",
      "--------------------- Prediting ----------------------\n",
      "[ 0.481  0.477] [ 0.479  0.475] [ 0.479  0.475] [ 0.479  0.475] [ 0.479  0.475] [ 0.479  0.475] [ 0.479  0.475] [ 0.479  0.475] [ 0.479  0.475] [ 0.479  0.475] [ 0.479  0.475] [ 0.479  0.475] [ 0.479  0.475] [ 0.479  0.475] [ 0.479  0.475] [ 0.479  0.475] [ 0.479  0.475] [ 0.479  0.475] [ 0.479  0.475] [ 0.479  0.475] ()\n",
      "Epoch 1/1\n",
      "100000/100000 [==============================] - 121s 1ms/step - loss: 5.0572e-04\n",
      "loss is\n",
      "0.000505718256999\n",
      "<keras.callbacks.History object at 0x11cc5cb90>\n",
      "()\n"
     ]
    }
   ],
   "source": [
    "for iteration in range(1,3):\n",
    "    print()\n",
    "    print('-' * 50)\n",
    "    print('Iteration', iteration)\n",
    "    print_sample()\n",
    "    history = model.fit(Xs, Ys, batch_size = batch_size, epochs = 1, verbose = 1)\n",
    "    if iteration==1 or iteration==3 or iteration==5 or iteration==10 or iteration==20 or iteration==30 or iteration==40 or iteration==50:\n",
    "        model.save_weights('rnn_rw_' + str(iteration) + '.h5', overwrite=True)\n",
    "    print('loss is')\n",
    "    print(history.history['loss'][0])\n",
    "    print(history)\n",
    "    print()\n",
    "    model.save('rnn_rw')"
   ]
  },
  {
   "cell_type": "code",
   "execution_count": 13,
   "metadata": {},
   "outputs": [
    {
     "name": "stdout",
     "output_type": "stream",
     "text": [
      "--------------- Generating with seed: ----------------\n",
      "[ 0.511  0.489] [ 0.495  0.488] [ 0.505  0.501] [ 0.497  0.487] [ 0.499  0.504] [ 0.496  0.507] [ 0.517  0.5  ] [ 0.496  0.517] [ 0.489  0.509] [ 0.506  0.508] [ 0.503  0.49 ] [ 0.503  0.502] [ 0.485  0.52 ] [ 0.507  0.497] [ 0.497  0.507] [ 0.509  0.499] [ 0.504  0.514] [ 0.492  0.497] [ 0.496  0.508] [ 0.504  0.505] ()\n",
      "--------------------- Prediting ----------------------\n",
      "[ 0.49   0.489] [ 0.489  0.488] [ 0.488  0.487] [ 0.488  0.487] [ 0.488  0.487] [ 0.488  0.487] [ 0.488  0.487] [ 0.488  0.487] [ 0.488  0.487] [ 0.488  0.487] [ 0.488  0.487] [ 0.488  0.487] [ 0.488  0.487] [ 0.488  0.487] [ 0.488  0.487] [ 0.488  0.487] [ 0.488  0.487] [ 0.488  0.487] [ 0.488  0.487] [ 0.488  0.487] ()\n"
     ]
    }
   ],
   "source": [
    "print_sample()"
   ]
  },
  {
   "cell_type": "markdown",
   "metadata": {},
   "source": [
    "## 2. Using TensorFlow API"
   ]
  },
  {
   "cell_type": "code",
   "execution_count": 65,
   "metadata": {},
   "outputs": [],
   "source": [
    "def get_batch(Xs, Ys, batch_size = 128):\n",
    "    s = int(np.random.uniform(0, len(Xs) - batch_size))\n",
    "    data_x = Xs[s : s+batch_size]\n",
    "    data_y = Ys[s : s+batch_size]\n",
    "    return data_x, data_y"
   ]
  },
  {
   "cell_type": "code",
   "execution_count": 66,
   "metadata": {},
   "outputs": [
    {
     "data": {
      "text/plain": [
       "((128, 20, 2), (128, 20, 2))"
      ]
     },
     "execution_count": 66,
     "metadata": {},
     "output_type": "execute_result"
    }
   ],
   "source": [
    "data_x, data_y = get_batch(Xs, Ys)\n",
    "data_x.shape, data_y.shape"
   ]
  },
  {
   "cell_type": "code",
   "execution_count": 78,
   "metadata": {},
   "outputs": [],
   "source": [
    "import tensorflow as tf\n",
    "learning_rate = 0.01\n",
    "num_layers = 3"
   ]
  },
  {
   "cell_type": "markdown",
   "metadata": {},
   "source": [
    "### Definition of the LSTM cells"
   ]
  },
  {
   "cell_type": "code",
   "execution_count": 94,
   "metadata": {},
   "outputs": [
    {
     "name": "stdout",
     "output_type": "stream",
     "text": [
      "building the model\n",
      "compiling the model\n",
      "model is made\n"
     ]
    }
   ],
   "source": [
    "tf.reset_default_graph()\n",
    "tf.set_random_seed(1)\n",
    "\n",
    "# Placeholders\n",
    "x = tf.placeholder(tf.float32, [None, seq_len, 2], name = 'data_x')\n",
    "y = tf.placeholder(tf.float32, [None, seq_len, 2], name = 'data_y')\n",
    "dropout = tf.placeholder(tf.float32)\n",
    "\n",
    "print('building the model')\n",
    "\n",
    "# create 2 LSTM cells with dropout between layers\n",
    "rnn_layers = []\n",
    "for _ in range(num_layers):\n",
    "    cell = tf.contrib.rnn.BasicLSTMCell(state_size)\n",
    "    cell = tf.contrib.rnn.DropoutWrapper(cell, output_keep_prob = 1.0 - dropout)\n",
    "    rnn_layers.append(cell)\n",
    "    \n",
    "# create a RNN cell composed sequentially of a number of RNNCells\n",
    "multi_rnn_cell = tf.contrib.rnn.MultiRNNCell(rnn_layers)\n",
    "\n",
    "# outputs is a tensor of shape [batch_size, seq_len, state_size]\n",
    "# state is a N-tuple where N is the number of LSTMCells containing a tf.contrib.rnn.LSTMStateTuple for each cell\n",
    "# init_state = multi_rnn_cell.zero_state(batch_size, tf.float32)\n",
    "print('compiling the model')\n",
    "outputs, final_state = tf.nn.dynamic_rnn(cell = multi_rnn_cell,\n",
    "                                  inputs = x,\n",
    "                                  # initial_state = init_state,\n",
    "                                  dtype = tf.float32)\n",
    "print('model is made')"
   ]
  },
  {
   "cell_type": "code",
   "execution_count": 95,
   "metadata": {},
   "outputs": [
    {
     "data": {
      "text/plain": [
       "(<tf.Tensor 'rnn/transpose:0' shape=(?, 20, 100) dtype=float32>,\n",
       " (LSTMStateTuple(c=<tf.Tensor 'rnn/while/Exit_2:0' shape=(?, 100) dtype=float32>, h=<tf.Tensor 'rnn/while/Exit_3:0' shape=(?, 100) dtype=float32>),\n",
       "  LSTMStateTuple(c=<tf.Tensor 'rnn/while/Exit_4:0' shape=(?, 100) dtype=float32>, h=<tf.Tensor 'rnn/while/Exit_5:0' shape=(?, 100) dtype=float32>),\n",
       "  LSTMStateTuple(c=<tf.Tensor 'rnn/while/Exit_6:0' shape=(?, 100) dtype=float32>, h=<tf.Tensor 'rnn/while/Exit_7:0' shape=(?, 100) dtype=float32>)))"
      ]
     },
     "execution_count": 95,
     "metadata": {},
     "output_type": "execute_result"
    }
   ],
   "source": [
    "outputs, final_state"
   ]
  },
  {
   "cell_type": "markdown",
   "metadata": {},
   "source": [
    "### Computation of the MSE loss"
   ]
  },
  {
   "cell_type": "code",
   "execution_count": 96,
   "metadata": {},
   "outputs": [
    {
     "data": {
      "text/plain": [
       "(<tf.Tensor 'Reshape:0' shape=(?, 100) dtype=float32>,\n",
       " <tf.Tensor 'Reshape_1:0' shape=(?, 2) dtype=float32>)"
      ]
     },
     "execution_count": 96,
     "metadata": {},
     "output_type": "execute_result"
    }
   ],
   "source": [
    "# reshape outputs and y so that we can compute the prediction y_ and loss easily\n",
    "outputs_reshaped = tf.reshape(outputs, [-1, state_size])\n",
    "y_reshaped = tf.reshape(y,[-1, 2])\n",
    "outputs_reshaped, y_reshaped"
   ]
  },
  {
   "cell_type": "code",
   "execution_count": 97,
   "metadata": {},
   "outputs": [
    {
     "data": {
      "text/plain": [
       "(<tf.Tensor 'add:0' shape=(?, 2) dtype=float32>,\n",
       " <tf.Tensor 'Reshape_1:0' shape=(?, 2) dtype=float32>)"
      ]
     },
     "execution_count": 97,
     "metadata": {},
     "output_type": "execute_result"
    }
   ],
   "source": [
    "with tf.variable_scope('output'):\n",
    "    V = tf.get_variable('V', [state_size, 2])\n",
    "    bv = tf.get_variable('bv', [2], initializer=tf.constant_initializer(0.0))\n",
    "y_hat = tf.matmul(outputs_reshaped, V) + bv\n",
    "y_hat, y_reshaped"
   ]
  },
  {
   "cell_type": "code",
   "execution_count": 98,
   "metadata": {},
   "outputs": [],
   "source": [
    "total_loss = tf.reduce_mean(tf.square(tf.subtract(y_hat, y_reshaped)))\n",
    "train_step = tf.train.AdamOptimizer(learning_rate).minimize(total_loss)"
   ]
  },
  {
   "cell_type": "markdown",
   "metadata": {},
   "source": [
    "### Training"
   ]
  },
  {
   "cell_type": "code",
   "execution_count": 125,
   "metadata": {},
   "outputs": [
    {
     "name": "stdout",
     "output_type": "stream",
     "text": [
      "0 0.256749629974\n",
      "1 0.0662115067244\n",
      "2 0.430745214224\n",
      "3 0.115134313703\n",
      "4 0.0455385707319\n",
      "5 0.1085588485\n",
      "6 0.104458913207\n",
      "7 0.060328297317\n",
      "8 0.0562062039971\n",
      "9 0.0344979204237\n",
      "200 0.00156476524877\n",
      "400 0.000450606227823\n",
      "600 0.000338736219419\n",
      "800 0.000265448657447\n",
      "1000 0.000217243239531\n",
      "1200 0.000181901800242\n",
      "1400 0.000156928024371\n",
      "1600 0.000137402696346\n",
      "1800 0.000125454670488\n"
     ]
    }
   ],
   "source": [
    "X , Y = None, None\n",
    "count = 0\n",
    "sum_tr_losses = 0\n",
    "with tf.Session() as sess:\n",
    "    sess.run(tf.global_variables_initializer())\n",
    "    for i in range(2000):\n",
    "        X , Y = get_batch(Xs, Ys, batch_size = batch_size)\n",
    "        tr_losses, _ = sess.run([total_loss, train_step],\n",
    "                                              feed_dict = {x:X, y:Y, dropout:0.2})\n",
    "        count += 1\n",
    "        sum_tr_losses += tr_losses\n",
    "        if (i < 10) or ( i % 200 == 0 ):\n",
    "            print(\"{} {}\".format(i, sum_tr_losses / count))\n",
    "            count = 0\n",
    "            sum_tr_losses = 0"
   ]
  },
  {
   "cell_type": "code",
   "execution_count": null,
   "metadata": {},
   "outputs": [],
   "source": []
  }
 ],
 "metadata": {
  "kernelspec": {
   "display_name": "Python 2",
   "language": "python",
   "name": "python2"
  },
  "language_info": {
   "codemirror_mode": {
    "name": "ipython",
    "version": 2
   },
   "file_extension": ".py",
   "mimetype": "text/x-python",
   "name": "python",
   "nbconvert_exporter": "python",
   "pygments_lexer": "ipython2",
   "version": "2.7.10"
  }
 },
 "nbformat": 4,
 "nbformat_minor": 2
}
